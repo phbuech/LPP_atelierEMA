{
  "nbformat": 4,
  "nbformat_minor": 0,
  "metadata": {
    "colab": {
      "provenance": [],
      "collapsed_sections": []
    },
    "kernelspec": {
      "name": "python3",
      "display_name": "Python 3"
    },
    "language_info": {
      "name": "python"
    }
  },
  "cells": [
    {
      "cell_type": "markdown",
      "source": [
        "# ema2wav example - Google Colab\n",
        "This notebook is a template for "
      ],
      "metadata": {
        "id": "ACpyCUNGOfj4"
      }
    },
    {
      "cell_type": "markdown",
      "source": [
        "create folders for input and output"
      ],
      "metadata": {
        "id": "YiNaUvGuQsW2"
      }
    },
    {
      "cell_type": "code",
      "source": [
        "!mkdir input\n",
        "!mkdir output\n",
        "!mkdir output/emawav"
      ],
      "metadata": {
        "colab": {
          "base_uri": "https://localhost:8080/"
        },
        "id": "Wa8CVhPdQqLo",
        "outputId": "9efbfaad-63b8-42bb-fda1-b58d61165abd"
      },
      "execution_count": 63,
      "outputs": [
        {
          "output_type": "stream",
          "name": "stdout",
          "text": [
            "mkdir: cannot create directory ‘input’: File exists\n",
            "mkdir: cannot create directory ‘output’: File exists\n",
            "mkdir: cannot create directory ‘output/emawav’: File exists\n"
          ]
        }
      ]
    },
    {
      "cell_type": "markdown",
      "source": [
        "## 1. upload your wav and pos files into the input folder!\n",
        "## 2. upload the config file!"
      ],
      "metadata": {
        "id": "6SibUzmlQ3A-"
      }
    },
    {
      "cell_type": "markdown",
      "source": [
        "import ema2wav"
      ],
      "metadata": {
        "id": "xznJRWhrQ8OG"
      }
    },
    {
      "cell_type": "code",
      "source": [
        "import requests\n",
        "\n",
        "url = \"https://raw.githubusercontent.com/phbuech/ema2wav/main/src/ema2wav_core.py\"\n",
        "req = requests.get(url)\n",
        "\n",
        "with open(\"ema2wav.py\",\"w\") as f: f.write(req.text)\n"
      ],
      "metadata": {
        "id": "LA0l1YYZOkAT"
      },
      "execution_count": 64,
      "outputs": []
    },
    {
      "cell_type": "markdown",
      "source": [
        "install mutagen"
      ],
      "metadata": {
        "id": "0k8qw7KZPtUV"
      }
    },
    {
      "cell_type": "code",
      "source": [
        "!pip install mutagen"
      ],
      "metadata": {
        "colab": {
          "base_uri": "https://localhost:8080/"
        },
        "id": "r3DpdiufPvUY",
        "outputId": "e97d4bc5-0af0-4a90-df5d-6201024e8618"
      },
      "execution_count": 65,
      "outputs": [
        {
          "output_type": "stream",
          "name": "stdout",
          "text": [
            "Looking in indexes: https://pypi.org/simple, https://us-python.pkg.dev/colab-wheels/public/simple/\n",
            "Requirement already satisfied: mutagen in /usr/local/lib/python3.7/dist-packages (1.45.1)\n"
          ]
        }
      ]
    },
    {
      "cell_type": "markdown",
      "source": [
        "import ema2wav"
      ],
      "metadata": {
        "id": "b7AWTNpFPwoB"
      }
    },
    {
      "cell_type": "code",
      "source": [
        "import ema2wav as e2w"
      ],
      "metadata": {
        "id": "FHgj6f5PPyEa"
      },
      "execution_count": 66,
      "outputs": []
    },
    {
      "cell_type": "markdown",
      "source": [
        "start conversion process"
      ],
      "metadata": {
        "id": "mQJwVIdPSP6o"
      }
    },
    {
      "cell_type": "code",
      "source": [
        "e2w.ema2wav_conversion(\"config.json\")"
      ],
      "metadata": {
        "id": "J9U5sbxQSSEb"
      },
      "execution_count": 67,
      "outputs": []
    }
  ]
}